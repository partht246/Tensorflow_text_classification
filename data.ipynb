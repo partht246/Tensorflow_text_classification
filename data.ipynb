import tensorflow as tf
import pandas as pd
import tensorflow_datasets as tfds

ds, info = tfds.load('ag_news_subset', split='train', with_info=True)

train_df = tfds.as_dataframe(ds.take(120_000), info)
